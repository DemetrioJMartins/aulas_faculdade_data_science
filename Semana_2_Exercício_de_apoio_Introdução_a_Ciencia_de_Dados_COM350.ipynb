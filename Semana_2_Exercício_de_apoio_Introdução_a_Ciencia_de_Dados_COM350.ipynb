{
  "nbformat": 4,
  "nbformat_minor": 0,
  "metadata": {
    "colab": {
      "provenance": [],
      "include_colab_link": true
    },
    "kernelspec": {
      "name": "python3",
      "display_name": "Python 3"
    },
    "language_info": {
      "name": "python"
    }
  },
  "cells": [
    {
      "cell_type": "markdown",
      "metadata": {
        "id": "view-in-github",
        "colab_type": "text"
      },
      "source": [
        "<a href=\"https://colab.research.google.com/github/DemetrioJMartins/aulas_faculdade_data_science/blob/main/Semana_2_Exerc%C3%ADcio_de_apoio_Introdu%C3%A7%C3%A3o_a_Ciencia_de_Dados_COM350.ipynb\" target=\"_parent\"><img src=\"https://colab.research.google.com/assets/colab-badge.svg\" alt=\"Open In Colab\"/></a>"
      ]
    },
    {
      "cell_type": "markdown",
      "metadata": {
        "id": "w-Ji360ZTTT-"
      },
      "source": [
        "##Disciplina - Introdução a Ciência de Dados - Univesp\n",
        "##Exercícios de Apoio da Semana 2"
      ]
    },
    {
      "cell_type": "markdown",
      "metadata": {
        "id": "L9cNpCDWTow1"
      },
      "source": [
        "###1 - Carregue as bibliotecas NumPy e Pandas"
      ]
    },
    {
      "cell_type": "code",
      "source": [
        "import pandas as pd\n",
        "import numpy as np"
      ],
      "metadata": {
        "id": "d61ZYTD_OQBE"
      },
      "execution_count": null,
      "outputs": []
    },
    {
      "cell_type": "markdown",
      "metadata": {
        "id": "ttQbbyLXUREo"
      },
      "source": [
        "###2 - Crie um NDArray com os seguintes valores [1, 2.5, 7, -78, -0.9, 130, 25]"
      ]
    },
    {
      "cell_type": "code",
      "source": [
        "lista=[1, 2.5, 7, -78, -0.9, 130, 25]\n",
        "dados=np.array(lista)"
      ],
      "metadata": {
        "id": "fEBH1vl2Oprl"
      },
      "execution_count": null,
      "outputs": []
    },
    {
      "cell_type": "code",
      "source": [
        "dados"
      ],
      "metadata": {
        "colab": {
          "base_uri": "https://localhost:8080/"
        },
        "id": "DNA3752oPacI",
        "outputId": "b29dd545-a374-4c2a-f213-7ab9ceeddc30"
      },
      "execution_count": null,
      "outputs": [
        {
          "output_type": "execute_result",
          "data": {
            "text/plain": [
              "array([  1. ,   2.5,   7. , -78. ,  -0.9, 130. ,  25. ])"
            ]
          },
          "metadata": {},
          "execution_count": 3
        }
      ]
    },
    {
      "cell_type": "markdown",
      "metadata": {
        "id": "dj1u3l8shnCn"
      },
      "source": [
        "###3 - Crie um NDArray com os valores de 0 a 10"
      ]
    },
    {
      "cell_type": "code",
      "source": [
        "dados2=np.arange(11)"
      ],
      "metadata": {
        "id": "kkYYmzDtPhAi"
      },
      "execution_count": null,
      "outputs": []
    },
    {
      "cell_type": "code",
      "source": [
        "dados2"
      ],
      "metadata": {
        "colab": {
          "base_uri": "https://localhost:8080/"
        },
        "id": "VJtWmeH_PyBT",
        "outputId": "5c849236-0946-4c86-9c0b-51e7223584ec"
      },
      "execution_count": null,
      "outputs": [
        {
          "output_type": "execute_result",
          "data": {
            "text/plain": [
              "array([ 0,  1,  2,  3,  4,  5,  6,  7,  8,  9, 10])"
            ]
          },
          "metadata": {},
          "execution_count": 5
        }
      ]
    },
    {
      "cell_type": "markdown",
      "metadata": {
        "id": "rnBk9UW1iMeL"
      },
      "source": [
        " ###4 – Crie um NDArray de dimensão 2x5 com valores 1"
      ]
    },
    {
      "cell_type": "code",
      "source": [
        "dados3=np.ones((2,5))\n",
        "dados3"
      ],
      "metadata": {
        "colab": {
          "base_uri": "https://localhost:8080/"
        },
        "id": "-dyAW-KEP8kH",
        "outputId": "219204b1-8d79-4139-918c-065cd52da5e0"
      },
      "execution_count": null,
      "outputs": [
        {
          "output_type": "execute_result",
          "data": {
            "text/plain": [
              "array([[1., 1., 1., 1., 1.],\n",
              "       [1., 1., 1., 1., 1.]])"
            ]
          },
          "metadata": {},
          "execution_count": 7
        }
      ]
    },
    {
      "cell_type": "markdown",
      "metadata": {
        "id": "86vJlvlwiyDb"
      },
      "source": [
        "###5 – Crie um NDArray com valores de 1 a 100, com intervalos de 3 em 3."
      ]
    },
    {
      "cell_type": "code",
      "source": [
        "dados4=np.arange(0,100,3)\n",
        "dados4"
      ],
      "metadata": {
        "colab": {
          "base_uri": "https://localhost:8080/"
        },
        "id": "1N3tVl84Qk-d",
        "outputId": "c5067a3a-0a78-467e-cdfc-7df07f35487c"
      },
      "execution_count": null,
      "outputs": [
        {
          "output_type": "execute_result",
          "data": {
            "text/plain": [
              "array([ 0,  3,  6,  9, 12, 15, 18, 21, 24, 27, 30, 33, 36, 39, 42, 45, 48,\n",
              "       51, 54, 57, 60, 63, 66, 69, 72, 75, 78, 81, 84, 87, 90, 93, 96, 99])"
            ]
          },
          "metadata": {},
          "execution_count": 9
        }
      ]
    },
    {
      "cell_type": "markdown",
      "metadata": {
        "id": "n7i6JgxEkwwe"
      },
      "source": [
        "###6 – Mostre as raízes quadradas dos valores do NDArray criado no exercícios 5."
      ]
    },
    {
      "cell_type": "code",
      "source": [
        "np.sqrt(dados4)"
      ],
      "metadata": {
        "colab": {
          "base_uri": "https://localhost:8080/"
        },
        "id": "hWDHQxkAQ_wj",
        "outputId": "ebdaa310-3dc1-424d-b30b-c8a7b8ea531e"
      },
      "execution_count": null,
      "outputs": [
        {
          "output_type": "execute_result",
          "data": {
            "text/plain": [
              "array([0.        , 1.73205081, 2.44948974, 3.        , 3.46410162,\n",
              "       3.87298335, 4.24264069, 4.58257569, 4.89897949, 5.19615242,\n",
              "       5.47722558, 5.74456265, 6.        , 6.244998  , 6.4807407 ,\n",
              "       6.70820393, 6.92820323, 7.14142843, 7.34846923, 7.54983444,\n",
              "       7.74596669, 7.93725393, 8.1240384 , 8.30662386, 8.48528137,\n",
              "       8.66025404, 8.83176087, 9.        , 9.16515139, 9.32737905,\n",
              "       9.48683298, 9.64365076, 9.79795897, 9.94987437])"
            ]
          },
          "metadata": {},
          "execution_count": 14
        }
      ]
    },
    {
      "cell_type": "markdown",
      "metadata": {
        "id": "Vn0fSti8lwtD"
      },
      "source": [
        "###7 – Altere a décima posição do NDArray criado no exercício 5 com o dobro do seu valor."
      ]
    },
    {
      "cell_type": "code",
      "source": [
        "dados4[9]=dados4[9]*2\n",
        "dados4"
      ],
      "metadata": {
        "colab": {
          "base_uri": "https://localhost:8080/"
        },
        "id": "LTlI9gu4SbcR",
        "outputId": "2c1100e5-d48b-4840-a6ea-4a4bf902ae11"
      },
      "execution_count": null,
      "outputs": [
        {
          "output_type": "execute_result",
          "data": {
            "text/plain": [
              "array([ 0,  3,  6,  9, 12, 15, 18, 21, 24, 54, 30, 33, 36, 39, 42, 45, 48,\n",
              "       51, 54, 57, 60, 63, 66, 69, 72, 75, 78, 81, 84, 87, 90, 93, 96, 99])"
            ]
          },
          "metadata": {},
          "execution_count": 16
        }
      ]
    },
    {
      "cell_type": "markdown",
      "metadata": {
        "id": "QmK0DaAymcvL"
      },
      "source": [
        "###8 – Execute o comando para criar um Dataframe com os dados disponíveis no notebook."
      ]
    },
    {
      "cell_type": "code",
      "metadata": {
        "id": "fgkSoH2sVKSb"
      },
      "source": [
        "dados={'Empresa':['Microsoft', 'Google','Univesp','NVData Analytics','Power Bi Experience','USP'], 'Qtde Func':[1000, 1500,500, 100,100,499], 'Site':['https://www.microsoft.com/pt-br','https://www.google.com/','https://univesp.br/','https://www.nvdata.com.br/','https://powerbiexperience.com/pt/','https://www.usp.br/'],'Instagram':['@microsoft','@google','@univespoficial','@nv_data','@leokarpa','@usp.oficial'],'Criação':[1975,1998,2012,2019,2016,1934], 'País':['EUA','EUA','Brasil','Brasil','Brasil','Brasil']}"
      ],
      "execution_count": null,
      "outputs": []
    },
    {
      "cell_type": "code",
      "source": [
        "df1=pd.DataFrame(dados)\n",
        "df1"
      ],
      "metadata": {
        "colab": {
          "base_uri": "https://localhost:8080/",
          "height": 237
        },
        "id": "WRrEgCjqTbiH",
        "outputId": "cd6ebbab-c2c4-4b87-e354-1ce1a6689b13"
      },
      "execution_count": null,
      "outputs": [
        {
          "output_type": "execute_result",
          "data": {
            "text/plain": [
              "               Empresa  Qtde Func                               Site  \\\n",
              "0            Microsoft       1000    https://www.microsoft.com/pt-br   \n",
              "1               Google       1500            https://www.google.com/   \n",
              "2              Univesp        500                https://univesp.br/   \n",
              "3     NVData Analytics        100         https://www.nvdata.com.br/   \n",
              "4  Power Bi Experience        100  https://powerbiexperience.com/pt/   \n",
              "5                  USP        499                https://www.usp.br/   \n",
              "\n",
              "         Instagram  Criação    País  \n",
              "0       @microsoft     1975     EUA  \n",
              "1          @google     1998     EUA  \n",
              "2  @univespoficial     2012  Brasil  \n",
              "3         @nv_data     2019  Brasil  \n",
              "4        @leokarpa     2016  Brasil  \n",
              "5     @usp.oficial     1934  Brasil  "
            ],
            "text/html": [
              "\n",
              "  <div id=\"df-98c7a32c-fdde-49f5-b0d3-cfc4a1ddc77d\">\n",
              "    <div class=\"colab-df-container\">\n",
              "      <div>\n",
              "<style scoped>\n",
              "    .dataframe tbody tr th:only-of-type {\n",
              "        vertical-align: middle;\n",
              "    }\n",
              "\n",
              "    .dataframe tbody tr th {\n",
              "        vertical-align: top;\n",
              "    }\n",
              "\n",
              "    .dataframe thead th {\n",
              "        text-align: right;\n",
              "    }\n",
              "</style>\n",
              "<table border=\"1\" class=\"dataframe\">\n",
              "  <thead>\n",
              "    <tr style=\"text-align: right;\">\n",
              "      <th></th>\n",
              "      <th>Empresa</th>\n",
              "      <th>Qtde Func</th>\n",
              "      <th>Site</th>\n",
              "      <th>Instagram</th>\n",
              "      <th>Criação</th>\n",
              "      <th>País</th>\n",
              "    </tr>\n",
              "  </thead>\n",
              "  <tbody>\n",
              "    <tr>\n",
              "      <th>0</th>\n",
              "      <td>Microsoft</td>\n",
              "      <td>1000</td>\n",
              "      <td>https://www.microsoft.com/pt-br</td>\n",
              "      <td>@microsoft</td>\n",
              "      <td>1975</td>\n",
              "      <td>EUA</td>\n",
              "    </tr>\n",
              "    <tr>\n",
              "      <th>1</th>\n",
              "      <td>Google</td>\n",
              "      <td>1500</td>\n",
              "      <td>https://www.google.com/</td>\n",
              "      <td>@google</td>\n",
              "      <td>1998</td>\n",
              "      <td>EUA</td>\n",
              "    </tr>\n",
              "    <tr>\n",
              "      <th>2</th>\n",
              "      <td>Univesp</td>\n",
              "      <td>500</td>\n",
              "      <td>https://univesp.br/</td>\n",
              "      <td>@univespoficial</td>\n",
              "      <td>2012</td>\n",
              "      <td>Brasil</td>\n",
              "    </tr>\n",
              "    <tr>\n",
              "      <th>3</th>\n",
              "      <td>NVData Analytics</td>\n",
              "      <td>100</td>\n",
              "      <td>https://www.nvdata.com.br/</td>\n",
              "      <td>@nv_data</td>\n",
              "      <td>2019</td>\n",
              "      <td>Brasil</td>\n",
              "    </tr>\n",
              "    <tr>\n",
              "      <th>4</th>\n",
              "      <td>Power Bi Experience</td>\n",
              "      <td>100</td>\n",
              "      <td>https://powerbiexperience.com/pt/</td>\n",
              "      <td>@leokarpa</td>\n",
              "      <td>2016</td>\n",
              "      <td>Brasil</td>\n",
              "    </tr>\n",
              "    <tr>\n",
              "      <th>5</th>\n",
              "      <td>USP</td>\n",
              "      <td>499</td>\n",
              "      <td>https://www.usp.br/</td>\n",
              "      <td>@usp.oficial</td>\n",
              "      <td>1934</td>\n",
              "      <td>Brasil</td>\n",
              "    </tr>\n",
              "  </tbody>\n",
              "</table>\n",
              "</div>\n",
              "      <button class=\"colab-df-convert\" onclick=\"convertToInteractive('df-98c7a32c-fdde-49f5-b0d3-cfc4a1ddc77d')\"\n",
              "              title=\"Convert this dataframe to an interactive table.\"\n",
              "              style=\"display:none;\">\n",
              "        \n",
              "  <svg xmlns=\"http://www.w3.org/2000/svg\" height=\"24px\"viewBox=\"0 0 24 24\"\n",
              "       width=\"24px\">\n",
              "    <path d=\"M0 0h24v24H0V0z\" fill=\"none\"/>\n",
              "    <path d=\"M18.56 5.44l.94 2.06.94-2.06 2.06-.94-2.06-.94-.94-2.06-.94 2.06-2.06.94zm-11 1L8.5 8.5l.94-2.06 2.06-.94-2.06-.94L8.5 2.5l-.94 2.06-2.06.94zm10 10l.94 2.06.94-2.06 2.06-.94-2.06-.94-.94-2.06-.94 2.06-2.06.94z\"/><path d=\"M17.41 7.96l-1.37-1.37c-.4-.4-.92-.59-1.43-.59-.52 0-1.04.2-1.43.59L10.3 9.45l-7.72 7.72c-.78.78-.78 2.05 0 2.83L4 21.41c.39.39.9.59 1.41.59.51 0 1.02-.2 1.41-.59l7.78-7.78 2.81-2.81c.8-.78.8-2.07 0-2.86zM5.41 20L4 18.59l7.72-7.72 1.47 1.35L5.41 20z\"/>\n",
              "  </svg>\n",
              "      </button>\n",
              "      \n",
              "  <style>\n",
              "    .colab-df-container {\n",
              "      display:flex;\n",
              "      flex-wrap:wrap;\n",
              "      gap: 12px;\n",
              "    }\n",
              "\n",
              "    .colab-df-convert {\n",
              "      background-color: #E8F0FE;\n",
              "      border: none;\n",
              "      border-radius: 50%;\n",
              "      cursor: pointer;\n",
              "      display: none;\n",
              "      fill: #1967D2;\n",
              "      height: 32px;\n",
              "      padding: 0 0 0 0;\n",
              "      width: 32px;\n",
              "    }\n",
              "\n",
              "    .colab-df-convert:hover {\n",
              "      background-color: #E2EBFA;\n",
              "      box-shadow: 0px 1px 2px rgba(60, 64, 67, 0.3), 0px 1px 3px 1px rgba(60, 64, 67, 0.15);\n",
              "      fill: #174EA6;\n",
              "    }\n",
              "\n",
              "    [theme=dark] .colab-df-convert {\n",
              "      background-color: #3B4455;\n",
              "      fill: #D2E3FC;\n",
              "    }\n",
              "\n",
              "    [theme=dark] .colab-df-convert:hover {\n",
              "      background-color: #434B5C;\n",
              "      box-shadow: 0px 1px 3px 1px rgba(0, 0, 0, 0.15);\n",
              "      filter: drop-shadow(0px 1px 2px rgba(0, 0, 0, 0.3));\n",
              "      fill: #FFFFFF;\n",
              "    }\n",
              "  </style>\n",
              "\n",
              "      <script>\n",
              "        const buttonEl =\n",
              "          document.querySelector('#df-98c7a32c-fdde-49f5-b0d3-cfc4a1ddc77d button.colab-df-convert');\n",
              "        buttonEl.style.display =\n",
              "          google.colab.kernel.accessAllowed ? 'block' : 'none';\n",
              "\n",
              "        async function convertToInteractive(key) {\n",
              "          const element = document.querySelector('#df-98c7a32c-fdde-49f5-b0d3-cfc4a1ddc77d');\n",
              "          const dataTable =\n",
              "            await google.colab.kernel.invokeFunction('convertToInteractive',\n",
              "                                                     [key], {});\n",
              "          if (!dataTable) return;\n",
              "\n",
              "          const docLinkHtml = 'Like what you see? Visit the ' +\n",
              "            '<a target=\"_blank\" href=https://colab.research.google.com/notebooks/data_table.ipynb>data table notebook</a>'\n",
              "            + ' to learn more about interactive tables.';\n",
              "          element.innerHTML = '';\n",
              "          dataTable['output_type'] = 'display_data';\n",
              "          await google.colab.output.renderOutput(dataTable, element);\n",
              "          const docLink = document.createElement('div');\n",
              "          docLink.innerHTML = docLinkHtml;\n",
              "          element.appendChild(docLink);\n",
              "        }\n",
              "      </script>\n",
              "    </div>\n",
              "  </div>\n",
              "  "
            ]
          },
          "metadata": {},
          "execution_count": 21
        }
      ]
    },
    {
      "cell_type": "markdown",
      "metadata": {
        "id": "l0pydfDTnX-q"
      },
      "source": [
        "###9 – Execute um comando que seja possível identificar qual a média da quantidade de funcionários que as empresas listadas tem. Informe também a soma dos funcionários que as empresas tem.\n"
      ]
    },
    {
      "cell_type": "code",
      "source": [
        "df1['Qtde Func'].describe()"
      ],
      "metadata": {
        "colab": {
          "base_uri": "https://localhost:8080/"
        },
        "id": "FHRFJJ-EVCH_",
        "outputId": "0e89b556-2ff4-4560-e555-7c9f4c6fa14f"
      },
      "execution_count": null,
      "outputs": [
        {
          "output_type": "execute_result",
          "data": {
            "text/plain": [
              "count       6.000000\n",
              "mean      616.500000\n",
              "std       545.631286\n",
              "min       100.000000\n",
              "25%       199.750000\n",
              "50%       499.500000\n",
              "75%       875.000000\n",
              "max      1500.000000\n",
              "Name: Qtde Func, dtype: float64"
            ]
          },
          "metadata": {},
          "execution_count": 26
        }
      ]
    },
    {
      "cell_type": "markdown",
      "metadata": {
        "id": "lGCMCItHoUjo"
      },
      "source": [
        "###10 – Mostre as primeiras 3 linhas do dataframe."
      ]
    },
    {
      "cell_type": "code",
      "source": [
        "df1.head(3)"
      ],
      "metadata": {
        "colab": {
          "base_uri": "https://localhost:8080/",
          "height": 143
        },
        "id": "WXGxk5BIXEvE",
        "outputId": "d8d432e7-1025-4087-a9ed-1ed70ee41613"
      },
      "execution_count": null,
      "outputs": [
        {
          "output_type": "execute_result",
          "data": {
            "text/plain": [
              "     Empresa  Qtde Func                             Site        Instagram  \\\n",
              "0  Microsoft       1000  https://www.microsoft.com/pt-br       @microsoft   \n",
              "1     Google       1500          https://www.google.com/          @google   \n",
              "2    Univesp        500              https://univesp.br/  @univespoficial   \n",
              "\n",
              "   Criação    País  \n",
              "0     1975     EUA  \n",
              "1     1998     EUA  \n",
              "2     2012  Brasil  "
            ],
            "text/html": [
              "\n",
              "  <div id=\"df-20c705d4-d636-4f99-883a-6dee0ca8e6da\">\n",
              "    <div class=\"colab-df-container\">\n",
              "      <div>\n",
              "<style scoped>\n",
              "    .dataframe tbody tr th:only-of-type {\n",
              "        vertical-align: middle;\n",
              "    }\n",
              "\n",
              "    .dataframe tbody tr th {\n",
              "        vertical-align: top;\n",
              "    }\n",
              "\n",
              "    .dataframe thead th {\n",
              "        text-align: right;\n",
              "    }\n",
              "</style>\n",
              "<table border=\"1\" class=\"dataframe\">\n",
              "  <thead>\n",
              "    <tr style=\"text-align: right;\">\n",
              "      <th></th>\n",
              "      <th>Empresa</th>\n",
              "      <th>Qtde Func</th>\n",
              "      <th>Site</th>\n",
              "      <th>Instagram</th>\n",
              "      <th>Criação</th>\n",
              "      <th>País</th>\n",
              "    </tr>\n",
              "  </thead>\n",
              "  <tbody>\n",
              "    <tr>\n",
              "      <th>0</th>\n",
              "      <td>Microsoft</td>\n",
              "      <td>1000</td>\n",
              "      <td>https://www.microsoft.com/pt-br</td>\n",
              "      <td>@microsoft</td>\n",
              "      <td>1975</td>\n",
              "      <td>EUA</td>\n",
              "    </tr>\n",
              "    <tr>\n",
              "      <th>1</th>\n",
              "      <td>Google</td>\n",
              "      <td>1500</td>\n",
              "      <td>https://www.google.com/</td>\n",
              "      <td>@google</td>\n",
              "      <td>1998</td>\n",
              "      <td>EUA</td>\n",
              "    </tr>\n",
              "    <tr>\n",
              "      <th>2</th>\n",
              "      <td>Univesp</td>\n",
              "      <td>500</td>\n",
              "      <td>https://univesp.br/</td>\n",
              "      <td>@univespoficial</td>\n",
              "      <td>2012</td>\n",
              "      <td>Brasil</td>\n",
              "    </tr>\n",
              "  </tbody>\n",
              "</table>\n",
              "</div>\n",
              "      <button class=\"colab-df-convert\" onclick=\"convertToInteractive('df-20c705d4-d636-4f99-883a-6dee0ca8e6da')\"\n",
              "              title=\"Convert this dataframe to an interactive table.\"\n",
              "              style=\"display:none;\">\n",
              "        \n",
              "  <svg xmlns=\"http://www.w3.org/2000/svg\" height=\"24px\"viewBox=\"0 0 24 24\"\n",
              "       width=\"24px\">\n",
              "    <path d=\"M0 0h24v24H0V0z\" fill=\"none\"/>\n",
              "    <path d=\"M18.56 5.44l.94 2.06.94-2.06 2.06-.94-2.06-.94-.94-2.06-.94 2.06-2.06.94zm-11 1L8.5 8.5l.94-2.06 2.06-.94-2.06-.94L8.5 2.5l-.94 2.06-2.06.94zm10 10l.94 2.06.94-2.06 2.06-.94-2.06-.94-.94-2.06-.94 2.06-2.06.94z\"/><path d=\"M17.41 7.96l-1.37-1.37c-.4-.4-.92-.59-1.43-.59-.52 0-1.04.2-1.43.59L10.3 9.45l-7.72 7.72c-.78.78-.78 2.05 0 2.83L4 21.41c.39.39.9.59 1.41.59.51 0 1.02-.2 1.41-.59l7.78-7.78 2.81-2.81c.8-.78.8-2.07 0-2.86zM5.41 20L4 18.59l7.72-7.72 1.47 1.35L5.41 20z\"/>\n",
              "  </svg>\n",
              "      </button>\n",
              "      \n",
              "  <style>\n",
              "    .colab-df-container {\n",
              "      display:flex;\n",
              "      flex-wrap:wrap;\n",
              "      gap: 12px;\n",
              "    }\n",
              "\n",
              "    .colab-df-convert {\n",
              "      background-color: #E8F0FE;\n",
              "      border: none;\n",
              "      border-radius: 50%;\n",
              "      cursor: pointer;\n",
              "      display: none;\n",
              "      fill: #1967D2;\n",
              "      height: 32px;\n",
              "      padding: 0 0 0 0;\n",
              "      width: 32px;\n",
              "    }\n",
              "\n",
              "    .colab-df-convert:hover {\n",
              "      background-color: #E2EBFA;\n",
              "      box-shadow: 0px 1px 2px rgba(60, 64, 67, 0.3), 0px 1px 3px 1px rgba(60, 64, 67, 0.15);\n",
              "      fill: #174EA6;\n",
              "    }\n",
              "\n",
              "    [theme=dark] .colab-df-convert {\n",
              "      background-color: #3B4455;\n",
              "      fill: #D2E3FC;\n",
              "    }\n",
              "\n",
              "    [theme=dark] .colab-df-convert:hover {\n",
              "      background-color: #434B5C;\n",
              "      box-shadow: 0px 1px 3px 1px rgba(0, 0, 0, 0.15);\n",
              "      filter: drop-shadow(0px 1px 2px rgba(0, 0, 0, 0.3));\n",
              "      fill: #FFFFFF;\n",
              "    }\n",
              "  </style>\n",
              "\n",
              "      <script>\n",
              "        const buttonEl =\n",
              "          document.querySelector('#df-20c705d4-d636-4f99-883a-6dee0ca8e6da button.colab-df-convert');\n",
              "        buttonEl.style.display =\n",
              "          google.colab.kernel.accessAllowed ? 'block' : 'none';\n",
              "\n",
              "        async function convertToInteractive(key) {\n",
              "          const element = document.querySelector('#df-20c705d4-d636-4f99-883a-6dee0ca8e6da');\n",
              "          const dataTable =\n",
              "            await google.colab.kernel.invokeFunction('convertToInteractive',\n",
              "                                                     [key], {});\n",
              "          if (!dataTable) return;\n",
              "\n",
              "          const docLinkHtml = 'Like what you see? Visit the ' +\n",
              "            '<a target=\"_blank\" href=https://colab.research.google.com/notebooks/data_table.ipynb>data table notebook</a>'\n",
              "            + ' to learn more about interactive tables.';\n",
              "          element.innerHTML = '';\n",
              "          dataTable['output_type'] = 'display_data';\n",
              "          await google.colab.output.renderOutput(dataTable, element);\n",
              "          const docLink = document.createElement('div');\n",
              "          docLink.innerHTML = docLinkHtml;\n",
              "          element.appendChild(docLink);\n",
              "        }\n",
              "      </script>\n",
              "    </div>\n",
              "  </div>\n",
              "  "
            ]
          },
          "metadata": {},
          "execution_count": 27
        }
      ]
    },
    {
      "cell_type": "markdown",
      "metadata": {
        "id": "sknVvBi9oY9k"
      },
      "source": [
        "###11 – Mostre as últimas 3 linhas do dataframe."
      ]
    },
    {
      "cell_type": "code",
      "source": [
        "df1.tail(3)"
      ],
      "metadata": {
        "colab": {
          "base_uri": "https://localhost:8080/",
          "height": 143
        },
        "id": "iaBB7o5KXsMK",
        "outputId": "219c878d-4bf6-42a8-a263-70607f53a770"
      },
      "execution_count": null,
      "outputs": [
        {
          "output_type": "execute_result",
          "data": {
            "text/plain": [
              "               Empresa  Qtde Func                               Site  \\\n",
              "3     NVData Analytics        100         https://www.nvdata.com.br/   \n",
              "4  Power Bi Experience        100  https://powerbiexperience.com/pt/   \n",
              "5                  USP        499                https://www.usp.br/   \n",
              "\n",
              "      Instagram  Criação    País  \n",
              "3      @nv_data     2019  Brasil  \n",
              "4     @leokarpa     2016  Brasil  \n",
              "5  @usp.oficial     1934  Brasil  "
            ],
            "text/html": [
              "\n",
              "  <div id=\"df-65030e90-8d99-47d2-a0f6-c8c5ced4d74a\">\n",
              "    <div class=\"colab-df-container\">\n",
              "      <div>\n",
              "<style scoped>\n",
              "    .dataframe tbody tr th:only-of-type {\n",
              "        vertical-align: middle;\n",
              "    }\n",
              "\n",
              "    .dataframe tbody tr th {\n",
              "        vertical-align: top;\n",
              "    }\n",
              "\n",
              "    .dataframe thead th {\n",
              "        text-align: right;\n",
              "    }\n",
              "</style>\n",
              "<table border=\"1\" class=\"dataframe\">\n",
              "  <thead>\n",
              "    <tr style=\"text-align: right;\">\n",
              "      <th></th>\n",
              "      <th>Empresa</th>\n",
              "      <th>Qtde Func</th>\n",
              "      <th>Site</th>\n",
              "      <th>Instagram</th>\n",
              "      <th>Criação</th>\n",
              "      <th>País</th>\n",
              "    </tr>\n",
              "  </thead>\n",
              "  <tbody>\n",
              "    <tr>\n",
              "      <th>3</th>\n",
              "      <td>NVData Analytics</td>\n",
              "      <td>100</td>\n",
              "      <td>https://www.nvdata.com.br/</td>\n",
              "      <td>@nv_data</td>\n",
              "      <td>2019</td>\n",
              "      <td>Brasil</td>\n",
              "    </tr>\n",
              "    <tr>\n",
              "      <th>4</th>\n",
              "      <td>Power Bi Experience</td>\n",
              "      <td>100</td>\n",
              "      <td>https://powerbiexperience.com/pt/</td>\n",
              "      <td>@leokarpa</td>\n",
              "      <td>2016</td>\n",
              "      <td>Brasil</td>\n",
              "    </tr>\n",
              "    <tr>\n",
              "      <th>5</th>\n",
              "      <td>USP</td>\n",
              "      <td>499</td>\n",
              "      <td>https://www.usp.br/</td>\n",
              "      <td>@usp.oficial</td>\n",
              "      <td>1934</td>\n",
              "      <td>Brasil</td>\n",
              "    </tr>\n",
              "  </tbody>\n",
              "</table>\n",
              "</div>\n",
              "      <button class=\"colab-df-convert\" onclick=\"convertToInteractive('df-65030e90-8d99-47d2-a0f6-c8c5ced4d74a')\"\n",
              "              title=\"Convert this dataframe to an interactive table.\"\n",
              "              style=\"display:none;\">\n",
              "        \n",
              "  <svg xmlns=\"http://www.w3.org/2000/svg\" height=\"24px\"viewBox=\"0 0 24 24\"\n",
              "       width=\"24px\">\n",
              "    <path d=\"M0 0h24v24H0V0z\" fill=\"none\"/>\n",
              "    <path d=\"M18.56 5.44l.94 2.06.94-2.06 2.06-.94-2.06-.94-.94-2.06-.94 2.06-2.06.94zm-11 1L8.5 8.5l.94-2.06 2.06-.94-2.06-.94L8.5 2.5l-.94 2.06-2.06.94zm10 10l.94 2.06.94-2.06 2.06-.94-2.06-.94-.94-2.06-.94 2.06-2.06.94z\"/><path d=\"M17.41 7.96l-1.37-1.37c-.4-.4-.92-.59-1.43-.59-.52 0-1.04.2-1.43.59L10.3 9.45l-7.72 7.72c-.78.78-.78 2.05 0 2.83L4 21.41c.39.39.9.59 1.41.59.51 0 1.02-.2 1.41-.59l7.78-7.78 2.81-2.81c.8-.78.8-2.07 0-2.86zM5.41 20L4 18.59l7.72-7.72 1.47 1.35L5.41 20z\"/>\n",
              "  </svg>\n",
              "      </button>\n",
              "      \n",
              "  <style>\n",
              "    .colab-df-container {\n",
              "      display:flex;\n",
              "      flex-wrap:wrap;\n",
              "      gap: 12px;\n",
              "    }\n",
              "\n",
              "    .colab-df-convert {\n",
              "      background-color: #E8F0FE;\n",
              "      border: none;\n",
              "      border-radius: 50%;\n",
              "      cursor: pointer;\n",
              "      display: none;\n",
              "      fill: #1967D2;\n",
              "      height: 32px;\n",
              "      padding: 0 0 0 0;\n",
              "      width: 32px;\n",
              "    }\n",
              "\n",
              "    .colab-df-convert:hover {\n",
              "      background-color: #E2EBFA;\n",
              "      box-shadow: 0px 1px 2px rgba(60, 64, 67, 0.3), 0px 1px 3px 1px rgba(60, 64, 67, 0.15);\n",
              "      fill: #174EA6;\n",
              "    }\n",
              "\n",
              "    [theme=dark] .colab-df-convert {\n",
              "      background-color: #3B4455;\n",
              "      fill: #D2E3FC;\n",
              "    }\n",
              "\n",
              "    [theme=dark] .colab-df-convert:hover {\n",
              "      background-color: #434B5C;\n",
              "      box-shadow: 0px 1px 3px 1px rgba(0, 0, 0, 0.15);\n",
              "      filter: drop-shadow(0px 1px 2px rgba(0, 0, 0, 0.3));\n",
              "      fill: #FFFFFF;\n",
              "    }\n",
              "  </style>\n",
              "\n",
              "      <script>\n",
              "        const buttonEl =\n",
              "          document.querySelector('#df-65030e90-8d99-47d2-a0f6-c8c5ced4d74a button.colab-df-convert');\n",
              "        buttonEl.style.display =\n",
              "          google.colab.kernel.accessAllowed ? 'block' : 'none';\n",
              "\n",
              "        async function convertToInteractive(key) {\n",
              "          const element = document.querySelector('#df-65030e90-8d99-47d2-a0f6-c8c5ced4d74a');\n",
              "          const dataTable =\n",
              "            await google.colab.kernel.invokeFunction('convertToInteractive',\n",
              "                                                     [key], {});\n",
              "          if (!dataTable) return;\n",
              "\n",
              "          const docLinkHtml = 'Like what you see? Visit the ' +\n",
              "            '<a target=\"_blank\" href=https://colab.research.google.com/notebooks/data_table.ipynb>data table notebook</a>'\n",
              "            + ' to learn more about interactive tables.';\n",
              "          element.innerHTML = '';\n",
              "          dataTable['output_type'] = 'display_data';\n",
              "          await google.colab.output.renderOutput(dataTable, element);\n",
              "          const docLink = document.createElement('div');\n",
              "          docLink.innerHTML = docLinkHtml;\n",
              "          element.appendChild(docLink);\n",
              "        }\n",
              "      </script>\n",
              "    </div>\n",
              "  </div>\n",
              "  "
            ]
          },
          "metadata": {},
          "execution_count": 28
        }
      ]
    },
    {
      "cell_type": "markdown",
      "metadata": {
        "id": "FyKZVn1uobKj"
      },
      "source": [
        "###12 – Liste apenas as linhas em que as empresas foram criadas nos últimos 10 anos. Informe a quantidade de registros."
      ]
    },
    {
      "cell_type": "code",
      "source": [
        "df1[df1['Criação']>=2013]"
      ],
      "metadata": {
        "colab": {
          "base_uri": "https://localhost:8080/",
          "height": 112
        },
        "id": "LWbKpVChYMSr",
        "outputId": "68a5e790-b522-4d7c-e60a-d1a6d572342c"
      },
      "execution_count": null,
      "outputs": [
        {
          "output_type": "execute_result",
          "data": {
            "text/plain": [
              "               Empresa  Qtde Func                               Site  \\\n",
              "3     NVData Analytics        100         https://www.nvdata.com.br/   \n",
              "4  Power Bi Experience        100  https://powerbiexperience.com/pt/   \n",
              "\n",
              "   Instagram  Criação    País  \n",
              "3   @nv_data     2019  Brasil  \n",
              "4  @leokarpa     2016  Brasil  "
            ],
            "text/html": [
              "\n",
              "  <div id=\"df-7efd4d42-9468-4bc8-a159-c8c26b8c879d\">\n",
              "    <div class=\"colab-df-container\">\n",
              "      <div>\n",
              "<style scoped>\n",
              "    .dataframe tbody tr th:only-of-type {\n",
              "        vertical-align: middle;\n",
              "    }\n",
              "\n",
              "    .dataframe tbody tr th {\n",
              "        vertical-align: top;\n",
              "    }\n",
              "\n",
              "    .dataframe thead th {\n",
              "        text-align: right;\n",
              "    }\n",
              "</style>\n",
              "<table border=\"1\" class=\"dataframe\">\n",
              "  <thead>\n",
              "    <tr style=\"text-align: right;\">\n",
              "      <th></th>\n",
              "      <th>Empresa</th>\n",
              "      <th>Qtde Func</th>\n",
              "      <th>Site</th>\n",
              "      <th>Instagram</th>\n",
              "      <th>Criação</th>\n",
              "      <th>País</th>\n",
              "    </tr>\n",
              "  </thead>\n",
              "  <tbody>\n",
              "    <tr>\n",
              "      <th>3</th>\n",
              "      <td>NVData Analytics</td>\n",
              "      <td>100</td>\n",
              "      <td>https://www.nvdata.com.br/</td>\n",
              "      <td>@nv_data</td>\n",
              "      <td>2019</td>\n",
              "      <td>Brasil</td>\n",
              "    </tr>\n",
              "    <tr>\n",
              "      <th>4</th>\n",
              "      <td>Power Bi Experience</td>\n",
              "      <td>100</td>\n",
              "      <td>https://powerbiexperience.com/pt/</td>\n",
              "      <td>@leokarpa</td>\n",
              "      <td>2016</td>\n",
              "      <td>Brasil</td>\n",
              "    </tr>\n",
              "  </tbody>\n",
              "</table>\n",
              "</div>\n",
              "      <button class=\"colab-df-convert\" onclick=\"convertToInteractive('df-7efd4d42-9468-4bc8-a159-c8c26b8c879d')\"\n",
              "              title=\"Convert this dataframe to an interactive table.\"\n",
              "              style=\"display:none;\">\n",
              "        \n",
              "  <svg xmlns=\"http://www.w3.org/2000/svg\" height=\"24px\"viewBox=\"0 0 24 24\"\n",
              "       width=\"24px\">\n",
              "    <path d=\"M0 0h24v24H0V0z\" fill=\"none\"/>\n",
              "    <path d=\"M18.56 5.44l.94 2.06.94-2.06 2.06-.94-2.06-.94-.94-2.06-.94 2.06-2.06.94zm-11 1L8.5 8.5l.94-2.06 2.06-.94-2.06-.94L8.5 2.5l-.94 2.06-2.06.94zm10 10l.94 2.06.94-2.06 2.06-.94-2.06-.94-.94-2.06-.94 2.06-2.06.94z\"/><path d=\"M17.41 7.96l-1.37-1.37c-.4-.4-.92-.59-1.43-.59-.52 0-1.04.2-1.43.59L10.3 9.45l-7.72 7.72c-.78.78-.78 2.05 0 2.83L4 21.41c.39.39.9.59 1.41.59.51 0 1.02-.2 1.41-.59l7.78-7.78 2.81-2.81c.8-.78.8-2.07 0-2.86zM5.41 20L4 18.59l7.72-7.72 1.47 1.35L5.41 20z\"/>\n",
              "  </svg>\n",
              "      </button>\n",
              "      \n",
              "  <style>\n",
              "    .colab-df-container {\n",
              "      display:flex;\n",
              "      flex-wrap:wrap;\n",
              "      gap: 12px;\n",
              "    }\n",
              "\n",
              "    .colab-df-convert {\n",
              "      background-color: #E8F0FE;\n",
              "      border: none;\n",
              "      border-radius: 50%;\n",
              "      cursor: pointer;\n",
              "      display: none;\n",
              "      fill: #1967D2;\n",
              "      height: 32px;\n",
              "      padding: 0 0 0 0;\n",
              "      width: 32px;\n",
              "    }\n",
              "\n",
              "    .colab-df-convert:hover {\n",
              "      background-color: #E2EBFA;\n",
              "      box-shadow: 0px 1px 2px rgba(60, 64, 67, 0.3), 0px 1px 3px 1px rgba(60, 64, 67, 0.15);\n",
              "      fill: #174EA6;\n",
              "    }\n",
              "\n",
              "    [theme=dark] .colab-df-convert {\n",
              "      background-color: #3B4455;\n",
              "      fill: #D2E3FC;\n",
              "    }\n",
              "\n",
              "    [theme=dark] .colab-df-convert:hover {\n",
              "      background-color: #434B5C;\n",
              "      box-shadow: 0px 1px 3px 1px rgba(0, 0, 0, 0.15);\n",
              "      filter: drop-shadow(0px 1px 2px rgba(0, 0, 0, 0.3));\n",
              "      fill: #FFFFFF;\n",
              "    }\n",
              "  </style>\n",
              "\n",
              "      <script>\n",
              "        const buttonEl =\n",
              "          document.querySelector('#df-7efd4d42-9468-4bc8-a159-c8c26b8c879d button.colab-df-convert');\n",
              "        buttonEl.style.display =\n",
              "          google.colab.kernel.accessAllowed ? 'block' : 'none';\n",
              "\n",
              "        async function convertToInteractive(key) {\n",
              "          const element = document.querySelector('#df-7efd4d42-9468-4bc8-a159-c8c26b8c879d');\n",
              "          const dataTable =\n",
              "            await google.colab.kernel.invokeFunction('convertToInteractive',\n",
              "                                                     [key], {});\n",
              "          if (!dataTable) return;\n",
              "\n",
              "          const docLinkHtml = 'Like what you see? Visit the ' +\n",
              "            '<a target=\"_blank\" href=https://colab.research.google.com/notebooks/data_table.ipynb>data table notebook</a>'\n",
              "            + ' to learn more about interactive tables.';\n",
              "          element.innerHTML = '';\n",
              "          dataTable['output_type'] = 'display_data';\n",
              "          await google.colab.output.renderOutput(dataTable, element);\n",
              "          const docLink = document.createElement('div');\n",
              "          docLink.innerHTML = docLinkHtml;\n",
              "          element.appendChild(docLink);\n",
              "        }\n",
              "      </script>\n",
              "    </div>\n",
              "  </div>\n",
              "  "
            ]
          },
          "metadata": {},
          "execution_count": 34
        }
      ]
    },
    {
      "cell_type": "markdown",
      "metadata": {
        "id": "noPYQPpXohZ8"
      },
      "source": [
        "###13 – Vamos imaginar que em todas as empresas exista 1 chefe para cada 23 funcionários. Crie uma coluna que mostre a quantidade de chefes que cada empresa teria e depois informe quantos chefes teríamos ao todo. (os valores não precisam ser números inteiros, é apenas uma estimativa).\n"
      ]
    },
    {
      "cell_type": "code",
      "metadata": {
        "id": "qMVATsTWofL9",
        "colab": {
          "base_uri": "https://localhost:8080/",
          "height": 237
        },
        "outputId": "0cc5bcbe-9b4d-4111-ee88-dad7a59bc5a8"
      },
      "source": [
        "df1['Chefes']=df1['Qtde Func']/23\n",
        "df1"
      ],
      "execution_count": null,
      "outputs": [
        {
          "output_type": "execute_result",
          "data": {
            "text/plain": [
              "               Empresa  Qtde Func                               Site  \\\n",
              "0            Microsoft       1000    https://www.microsoft.com/pt-br   \n",
              "1               Google       1500            https://www.google.com/   \n",
              "2              Univesp        500                https://univesp.br/   \n",
              "3     NVData Analytics        100         https://www.nvdata.com.br/   \n",
              "4  Power Bi Experience        100  https://powerbiexperience.com/pt/   \n",
              "5                  USP        499                https://www.usp.br/   \n",
              "\n",
              "         Instagram  Criação    País     Chefes  \n",
              "0       @microsoft     1975     EUA  43.478261  \n",
              "1          @google     1998     EUA  65.217391  \n",
              "2  @univespoficial     2012  Brasil  21.739130  \n",
              "3         @nv_data     2019  Brasil   4.347826  \n",
              "4        @leokarpa     2016  Brasil   4.347826  \n",
              "5     @usp.oficial     1934  Brasil  21.695652  "
            ],
            "text/html": [
              "\n",
              "  <div id=\"df-922042fc-6956-4671-bd88-f0a3f30b789a\">\n",
              "    <div class=\"colab-df-container\">\n",
              "      <div>\n",
              "<style scoped>\n",
              "    .dataframe tbody tr th:only-of-type {\n",
              "        vertical-align: middle;\n",
              "    }\n",
              "\n",
              "    .dataframe tbody tr th {\n",
              "        vertical-align: top;\n",
              "    }\n",
              "\n",
              "    .dataframe thead th {\n",
              "        text-align: right;\n",
              "    }\n",
              "</style>\n",
              "<table border=\"1\" class=\"dataframe\">\n",
              "  <thead>\n",
              "    <tr style=\"text-align: right;\">\n",
              "      <th></th>\n",
              "      <th>Empresa</th>\n",
              "      <th>Qtde Func</th>\n",
              "      <th>Site</th>\n",
              "      <th>Instagram</th>\n",
              "      <th>Criação</th>\n",
              "      <th>País</th>\n",
              "      <th>Chefes</th>\n",
              "    </tr>\n",
              "  </thead>\n",
              "  <tbody>\n",
              "    <tr>\n",
              "      <th>0</th>\n",
              "      <td>Microsoft</td>\n",
              "      <td>1000</td>\n",
              "      <td>https://www.microsoft.com/pt-br</td>\n",
              "      <td>@microsoft</td>\n",
              "      <td>1975</td>\n",
              "      <td>EUA</td>\n",
              "      <td>43.478261</td>\n",
              "    </tr>\n",
              "    <tr>\n",
              "      <th>1</th>\n",
              "      <td>Google</td>\n",
              "      <td>1500</td>\n",
              "      <td>https://www.google.com/</td>\n",
              "      <td>@google</td>\n",
              "      <td>1998</td>\n",
              "      <td>EUA</td>\n",
              "      <td>65.217391</td>\n",
              "    </tr>\n",
              "    <tr>\n",
              "      <th>2</th>\n",
              "      <td>Univesp</td>\n",
              "      <td>500</td>\n",
              "      <td>https://univesp.br/</td>\n",
              "      <td>@univespoficial</td>\n",
              "      <td>2012</td>\n",
              "      <td>Brasil</td>\n",
              "      <td>21.739130</td>\n",
              "    </tr>\n",
              "    <tr>\n",
              "      <th>3</th>\n",
              "      <td>NVData Analytics</td>\n",
              "      <td>100</td>\n",
              "      <td>https://www.nvdata.com.br/</td>\n",
              "      <td>@nv_data</td>\n",
              "      <td>2019</td>\n",
              "      <td>Brasil</td>\n",
              "      <td>4.347826</td>\n",
              "    </tr>\n",
              "    <tr>\n",
              "      <th>4</th>\n",
              "      <td>Power Bi Experience</td>\n",
              "      <td>100</td>\n",
              "      <td>https://powerbiexperience.com/pt/</td>\n",
              "      <td>@leokarpa</td>\n",
              "      <td>2016</td>\n",
              "      <td>Brasil</td>\n",
              "      <td>4.347826</td>\n",
              "    </tr>\n",
              "    <tr>\n",
              "      <th>5</th>\n",
              "      <td>USP</td>\n",
              "      <td>499</td>\n",
              "      <td>https://www.usp.br/</td>\n",
              "      <td>@usp.oficial</td>\n",
              "      <td>1934</td>\n",
              "      <td>Brasil</td>\n",
              "      <td>21.695652</td>\n",
              "    </tr>\n",
              "  </tbody>\n",
              "</table>\n",
              "</div>\n",
              "      <button class=\"colab-df-convert\" onclick=\"convertToInteractive('df-922042fc-6956-4671-bd88-f0a3f30b789a')\"\n",
              "              title=\"Convert this dataframe to an interactive table.\"\n",
              "              style=\"display:none;\">\n",
              "        \n",
              "  <svg xmlns=\"http://www.w3.org/2000/svg\" height=\"24px\"viewBox=\"0 0 24 24\"\n",
              "       width=\"24px\">\n",
              "    <path d=\"M0 0h24v24H0V0z\" fill=\"none\"/>\n",
              "    <path d=\"M18.56 5.44l.94 2.06.94-2.06 2.06-.94-2.06-.94-.94-2.06-.94 2.06-2.06.94zm-11 1L8.5 8.5l.94-2.06 2.06-.94-2.06-.94L8.5 2.5l-.94 2.06-2.06.94zm10 10l.94 2.06.94-2.06 2.06-.94-2.06-.94-.94-2.06-.94 2.06-2.06.94z\"/><path d=\"M17.41 7.96l-1.37-1.37c-.4-.4-.92-.59-1.43-.59-.52 0-1.04.2-1.43.59L10.3 9.45l-7.72 7.72c-.78.78-.78 2.05 0 2.83L4 21.41c.39.39.9.59 1.41.59.51 0 1.02-.2 1.41-.59l7.78-7.78 2.81-2.81c.8-.78.8-2.07 0-2.86zM5.41 20L4 18.59l7.72-7.72 1.47 1.35L5.41 20z\"/>\n",
              "  </svg>\n",
              "      </button>\n",
              "      \n",
              "  <style>\n",
              "    .colab-df-container {\n",
              "      display:flex;\n",
              "      flex-wrap:wrap;\n",
              "      gap: 12px;\n",
              "    }\n",
              "\n",
              "    .colab-df-convert {\n",
              "      background-color: #E8F0FE;\n",
              "      border: none;\n",
              "      border-radius: 50%;\n",
              "      cursor: pointer;\n",
              "      display: none;\n",
              "      fill: #1967D2;\n",
              "      height: 32px;\n",
              "      padding: 0 0 0 0;\n",
              "      width: 32px;\n",
              "    }\n",
              "\n",
              "    .colab-df-convert:hover {\n",
              "      background-color: #E2EBFA;\n",
              "      box-shadow: 0px 1px 2px rgba(60, 64, 67, 0.3), 0px 1px 3px 1px rgba(60, 64, 67, 0.15);\n",
              "      fill: #174EA6;\n",
              "    }\n",
              "\n",
              "    [theme=dark] .colab-df-convert {\n",
              "      background-color: #3B4455;\n",
              "      fill: #D2E3FC;\n",
              "    }\n",
              "\n",
              "    [theme=dark] .colab-df-convert:hover {\n",
              "      background-color: #434B5C;\n",
              "      box-shadow: 0px 1px 3px 1px rgba(0, 0, 0, 0.15);\n",
              "      filter: drop-shadow(0px 1px 2px rgba(0, 0, 0, 0.3));\n",
              "      fill: #FFFFFF;\n",
              "    }\n",
              "  </style>\n",
              "\n",
              "      <script>\n",
              "        const buttonEl =\n",
              "          document.querySelector('#df-922042fc-6956-4671-bd88-f0a3f30b789a button.colab-df-convert');\n",
              "        buttonEl.style.display =\n",
              "          google.colab.kernel.accessAllowed ? 'block' : 'none';\n",
              "\n",
              "        async function convertToInteractive(key) {\n",
              "          const element = document.querySelector('#df-922042fc-6956-4671-bd88-f0a3f30b789a');\n",
              "          const dataTable =\n",
              "            await google.colab.kernel.invokeFunction('convertToInteractive',\n",
              "                                                     [key], {});\n",
              "          if (!dataTable) return;\n",
              "\n",
              "          const docLinkHtml = 'Like what you see? Visit the ' +\n",
              "            '<a target=\"_blank\" href=https://colab.research.google.com/notebooks/data_table.ipynb>data table notebook</a>'\n",
              "            + ' to learn more about interactive tables.';\n",
              "          element.innerHTML = '';\n",
              "          dataTable['output_type'] = 'display_data';\n",
              "          await google.colab.output.renderOutput(dataTable, element);\n",
              "          const docLink = document.createElement('div');\n",
              "          docLink.innerHTML = docLinkHtml;\n",
              "          element.appendChild(docLink);\n",
              "        }\n",
              "      </script>\n",
              "    </div>\n",
              "  </div>\n",
              "  "
            ]
          },
          "metadata": {},
          "execution_count": 35
        }
      ]
    },
    {
      "cell_type": "code",
      "source": [],
      "metadata": {
        "id": "Jb6nGCK_bABc"
      },
      "execution_count": null,
      "outputs": []
    }
  ]
}